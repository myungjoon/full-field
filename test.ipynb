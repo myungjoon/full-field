{
 "cells": [
  {
   "cell_type": "markdown",
   "id": "67945f21",
   "metadata": {},
   "source": [
    "## Test cases for 3D Nonlinear Schrodinger Equation\n",
    "\n",
    "$$i\\frac{\\partial E}{\\partial z} + \\frac{1}{2k_0}\\left(\\frac{\\partial^2 E}{\\partial x^2} + \\frac{\\partial^2 E}{\\partial y^2}\\right) + \\gamma|E|^2A = 0$$\n"
   ]
  },
  {
   "cell_type": "code",
   "execution_count": 1,
   "id": "3f1571dd",
   "metadata": {},
   "outputs": [],
   "source": [
    "import numpy as np\n",
    "import matplotlib.pyplot as plt\n",
    "import torch\n",
    "\n",
    "from src.util import plot_index_profile, plot_beam_intensity, plot_beam_intensity_and_phase, make_3d_animation, print_total_power\n",
    "from src.simulation import Domain, Fiber, KerrMedium, Input, run\n",
    "from src.modes import calculate_modes, decompose_modes, n_to_lm, calculate_effective_mode_area"
   ]
  },
  {
   "cell_type": "markdown",
   "id": "1eda4691",
   "metadata": {},
   "source": [
    "## 0. Numerical Algorithm"
   ]
  },
  {
   "cell_type": "markdown",
   "id": "ecbbda8f",
   "metadata": {},
   "source": [
    "## 1. Self-focusing\n",
    "\n",
    "$\\lambda = 1000 nm$\n",
    "\n",
    "$n = 1.45$\n",
    "\n",
    "$n_2 = 2.6e-20 m^2/W$\n",
    "\n",
    "The critical power for self-focusing is\n",
    "\n",
    "$P_{cr} = \\frac{0.148 \\lambda^2}{n n_2} \\approx 4 MW$"
   ]
  },
  {
   "cell_type": "code",
   "execution_count": null,
   "id": "e9dd939d",
   "metadata": {},
   "outputs": [
    {
     "name": "stdout",
     "output_type": "stream",
     "text": [
      "Critial power for self-focusing: 3925729.44 W\n"
     ]
    }
   ],
   "source": [
    "wvl0 = 1000e-9\n",
    "n = 1.45\n",
    "n2 = 2.6e-20\n",
    "\n",
    "P_cr = 0.148 * wvl0**2 / (n * n2)\n",
    "\n",
    "Lx = 50e-6\n",
    "Ly = 50e-6\n",
    "Nx = 512\n",
    "Ny = 512\n",
    "\n",
    "P0 = 0.1 * P_cr  # Initial power\n",
    "P_high = 1.5 * P_cr  # High power for simulation\n",
    "\n",
    "print(f'Critial power for self-focusing: {P_cr:.2f} W')"
   ]
  },
  {
   "cell_type": "code",
   "execution_count": null,
   "id": "062bd9cd",
   "metadata": {},
   "outputs": [
    {
     "ename": "TypeError",
     "evalue": "KerrMedium.__init__() got an unexpected keyword argument 'n'",
     "output_type": "error",
     "traceback": [
      "\u001b[0;31m---------------------------------------------------------------------------\u001b[0m",
      "\u001b[0;31mTypeError\u001b[0m                                 Traceback (most recent call last)",
      "Cell \u001b[0;32mIn[3], line 3\u001b[0m\n\u001b[1;32m      1\u001b[0m device \u001b[38;5;241m=\u001b[39m torch\u001b[38;5;241m.\u001b[39mdevice(\u001b[38;5;124m'\u001b[39m\u001b[38;5;124mcuda\u001b[39m\u001b[38;5;124m'\u001b[39m \u001b[38;5;28;01mif\u001b[39;00m torch\u001b[38;5;241m.\u001b[39mcuda\u001b[38;5;241m.\u001b[39mis_available() \u001b[38;5;28;01melse\u001b[39;00m \u001b[38;5;124m'\u001b[39m\u001b[38;5;124mcpu\u001b[39m\u001b[38;5;124m'\u001b[39m)\n\u001b[0;32m----> 3\u001b[0m medium \u001b[38;5;241m=\u001b[39m KerrMedium(n\u001b[38;5;241m=\u001b[39mn, n2\u001b[38;5;241m=\u001b[39mn2, wvl0\u001b[38;5;241m=\u001b[39mwvl0)\n\u001b[1;32m      4\u001b[0m domain \u001b[38;5;241m=\u001b[39m Domain(\n\u001b[1;32m      5\u001b[0m     x\u001b[38;5;241m=\u001b[39m(\u001b[38;5;241m-\u001b[39m\u001b[38;5;241m10e-6\u001b[39m, \u001b[38;5;241m10e-6\u001b[39m),\n\u001b[1;32m      6\u001b[0m     y\u001b[38;5;241m=\u001b[39m(\u001b[38;5;241m-\u001b[39m\u001b[38;5;241m10e-6\u001b[39m, \u001b[38;5;241m10e-6\u001b[39m),\n\u001b[0;32m   (...)\u001b[0m\n\u001b[1;32m     10\u001b[0m     dz\u001b[38;5;241m=\u001b[39m\u001b[38;5;241m0.1e-6\u001b[39m,\n\u001b[1;32m     11\u001b[0m )\n\u001b[1;32m     12\u001b[0m input_beam \u001b[38;5;241m=\u001b[39m Input(\n\u001b[1;32m     13\u001b[0m     wvl0, \u001b[38;5;241m0\u001b[39m, \u001b[38;5;241m0\u001b[39m, \u001b[38;5;28mtype\u001b[39m\u001b[38;5;241m=\u001b[39m\u001b[38;5;124m'\u001b[39m\u001b[38;5;124mgaussian\u001b[39m\u001b[38;5;124m'\u001b[39m, beam_radius\u001b[38;5;241m=\u001b[39m\u001b[38;5;241m25e-6\u001b[39m, power\u001b[38;5;241m=\u001b[39m\u001b[38;5;241m0.1\u001b[39m \u001b[38;5;241m*\u001b[39m P_cr, device\u001b[38;5;241m=\u001b[39mdevice)\n",
      "\u001b[0;31mTypeError\u001b[0m: KerrMedium.__init__() got an unexpected keyword argument 'n'"
     ]
    }
   ],
   "source": [
    "device = torch.device('cuda' if torch.cuda.is_available() else 'cpu')\n",
    "\n",
    "medium = KerrMedium(n=n, n2=n2, wvl0=wvl0)\n",
    "domain = Domain(Lx, Ly, Nx, Ny, device=device)\n",
    "input_beam = Input(\n",
    "    wvl0, 0, 0, type='gaussian', beam_radius=25e-6, power=0.1 * P_cr, device=device)"
   ]
  },
  {
   "cell_type": "markdown",
   "id": "196783ef",
   "metadata": {},
   "source": [
    "## 2. Self-imaging in GRIN fiber"
   ]
  },
  {
   "cell_type": "markdown",
   "id": "fc478559",
   "metadata": {},
   "source": [
    "## 3. Kerr Beam Self-cleaning"
   ]
  },
  {
   "cell_type": "markdown",
   "id": "9cf9cff6",
   "metadata": {},
   "source": [
    "## 4. Nonlinear phase computations\n"
   ]
  },
  {
   "cell_type": "markdown",
   "id": "8fa85a42",
   "metadata": {},
   "source": [
    "## 5. Spectral broadening"
   ]
  },
  {
   "cell_type": "markdown",
   "id": "a98e0bf4",
   "metadata": {},
   "source": []
  }
 ],
 "metadata": {
  "kernelspec": {
   "display_name": "base",
   "language": "python",
   "name": "python3"
  },
  "language_info": {
   "codemirror_mode": {
    "name": "ipython",
    "version": 3
   },
   "file_extension": ".py",
   "mimetype": "text/x-python",
   "name": "python",
   "nbconvert_exporter": "python",
   "pygments_lexer": "ipython3",
   "version": "3.12.7"
  }
 },
 "nbformat": 4,
 "nbformat_minor": 5
}
